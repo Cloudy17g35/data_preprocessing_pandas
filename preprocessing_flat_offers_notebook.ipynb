{
 "cells": [
  {
   "cell_type": "markdown",
   "metadata": {},
   "source": [
    "# Data prepcocessing example"
   ]
  },
  {
   "cell_type": "markdown",
   "metadata": {},
   "source": [
    "Data preprocessing is the most important stage in whole data life cycle.\n",
    "If you're working with data you know that's very rare that we're getting clean and well structured data 'first-hand'.\n",
    "In this article i'm going to show you how to preprocess data using pandas.\n",
    "I'm going to use dataset which contains flat rent offers scraped from one of the polish website for one particular town which is Poznań.\n",
    "So here's the dataset:"
   ]
  },
  {
   "cell_type": "code",
   "execution_count": 1,
   "metadata": {},
   "outputs": [],
   "source": [
    "import pandas as pd\n",
    "import numpy as np\n",
    "df = pd.read_parquet('data.parquet')"
   ]
  },
  {
   "cell_type": "code",
   "execution_count": 2,
   "metadata": {},
   "outputs": [
    {
     "data": {
      "text/html": [
       "<div>\n",
       "<style scoped>\n",
       "    .dataframe tbody tr th:only-of-type {\n",
       "        vertical-align: middle;\n",
       "    }\n",
       "\n",
       "    .dataframe tbody tr th {\n",
       "        vertical-align: top;\n",
       "    }\n",
       "\n",
       "    .dataframe thead th {\n",
       "        text-align: right;\n",
       "    }\n",
       "</style>\n",
       "<table border=\"1\" class=\"dataframe\">\n",
       "  <thead>\n",
       "    <tr style=\"text-align: right;\">\n",
       "      <th></th>\n",
       "      <th>fees</th>\n",
       "      <th>number_of_rooms</th>\n",
       "      <th>year_built</th>\n",
       "      <th>number_of_floors_in_the_building</th>\n",
       "      <th>number_of_parking_spaces</th>\n",
       "      <th>floor</th>\n",
       "      <th>area_in_m2</th>\n",
       "      <th>location</th>\n",
       "    </tr>\n",
       "  </thead>\n",
       "  <tbody>\n",
       "    <tr>\n",
       "      <th>0</th>\n",
       "      <td>800 zł</td>\n",
       "      <td>2</td>\n",
       "      <td>2006</td>\n",
       "      <td>4</td>\n",
       "      <td>1</td>\n",
       "      <td>parter</td>\n",
       "      <td>76 m2</td>\n",
       "      <td>\\n                                Poznań,     ...</td>\n",
       "    </tr>\n",
       "    <tr>\n",
       "      <th>1</th>\n",
       "      <td>420 zł</td>\n",
       "      <td>2</td>\n",
       "      <td>2019</td>\n",
       "      <td>10</td>\n",
       "      <td>1</td>\n",
       "      <td>9</td>\n",
       "      <td>46 m2</td>\n",
       "      <td>\\n                                Poznań,     ...</td>\n",
       "    </tr>\n",
       "    <tr>\n",
       "      <th>2</th>\n",
       "      <td>2 900 zł</td>\n",
       "      <td>2</td>\n",
       "      <td>2005</td>\n",
       "      <td>5</td>\n",
       "      <td>1</td>\n",
       "      <td>5</td>\n",
       "      <td>48 m2</td>\n",
       "      <td>\\n                                Poznań,     ...</td>\n",
       "    </tr>\n",
       "    <tr>\n",
       "      <th>3</th>\n",
       "      <td>None</td>\n",
       "      <td>2</td>\n",
       "      <td>2000</td>\n",
       "      <td>2</td>\n",
       "      <td>40</td>\n",
       "      <td>2</td>\n",
       "      <td>50 m2</td>\n",
       "      <td>\\n                                Poznań,     ...</td>\n",
       "    </tr>\n",
       "    <tr>\n",
       "      <th>4</th>\n",
       "      <td>150 zł</td>\n",
       "      <td>3</td>\n",
       "      <td>1975</td>\n",
       "      <td>4</td>\n",
       "      <td>None</td>\n",
       "      <td>1</td>\n",
       "      <td>48 m2</td>\n",
       "      <td>\\n                                Poznań,     ...</td>\n",
       "    </tr>\n",
       "    <tr>\n",
       "      <th>...</th>\n",
       "      <td>...</td>\n",
       "      <td>...</td>\n",
       "      <td>...</td>\n",
       "      <td>...</td>\n",
       "      <td>...</td>\n",
       "      <td>...</td>\n",
       "      <td>...</td>\n",
       "      <td>...</td>\n",
       "    </tr>\n",
       "    <tr>\n",
       "      <th>294</th>\n",
       "      <td>None</td>\n",
       "      <td>2</td>\n",
       "      <td>1955</td>\n",
       "      <td>1</td>\n",
       "      <td>None</td>\n",
       "      <td>parter</td>\n",
       "      <td>55 m2</td>\n",
       "      <td>\\n                                Poznań,     ...</td>\n",
       "    </tr>\n",
       "    <tr>\n",
       "      <th>295</th>\n",
       "      <td>None</td>\n",
       "      <td>2</td>\n",
       "      <td>None</td>\n",
       "      <td>3</td>\n",
       "      <td>None</td>\n",
       "      <td>parter</td>\n",
       "      <td>50 m2</td>\n",
       "      <td>\\n                                Poznań,     ...</td>\n",
       "    </tr>\n",
       "    <tr>\n",
       "      <th>296</th>\n",
       "      <td>None</td>\n",
       "      <td>2</td>\n",
       "      <td>2000</td>\n",
       "      <td>3</td>\n",
       "      <td>None</td>\n",
       "      <td>3</td>\n",
       "      <td>46 m2</td>\n",
       "      <td>\\n                                Poznań,     ...</td>\n",
       "    </tr>\n",
       "    <tr>\n",
       "      <th>297</th>\n",
       "      <td>300 zł</td>\n",
       "      <td>2</td>\n",
       "      <td>2016</td>\n",
       "      <td>1</td>\n",
       "      <td>1</td>\n",
       "      <td>parter</td>\n",
       "      <td>58 m2</td>\n",
       "      <td>\\n                                Poznań,     ...</td>\n",
       "    </tr>\n",
       "    <tr>\n",
       "      <th>298</th>\n",
       "      <td>None</td>\n",
       "      <td>4</td>\n",
       "      <td>None</td>\n",
       "      <td>5</td>\n",
       "      <td>None</td>\n",
       "      <td>1</td>\n",
       "      <td>110 m2</td>\n",
       "      <td>\\n                                Poznań,     ...</td>\n",
       "    </tr>\n",
       "  </tbody>\n",
       "</table>\n",
       "<p>299 rows × 8 columns</p>\n",
       "</div>"
      ],
      "text/plain": [
       "         fees number_of_rooms year_built number_of_floors_in_the_building  \\\n",
       "0      800 zł               2       2006                                4   \n",
       "1      420 zł               2       2019                               10   \n",
       "2    2 900 zł               2       2005                                5   \n",
       "3        None               2       2000                                2   \n",
       "4      150 zł               3       1975                                4   \n",
       "..        ...             ...        ...                              ...   \n",
       "294      None               2       1955                                1   \n",
       "295      None               2       None                                3   \n",
       "296      None               2       2000                                3   \n",
       "297    300 zł               2       2016                                1   \n",
       "298      None               4       None                                5   \n",
       "\n",
       "    number_of_parking_spaces   floor area_in_m2  \\\n",
       "0                          1  parter      76 m2   \n",
       "1                          1       9      46 m2   \n",
       "2                          1       5      48 m2   \n",
       "3                         40       2      50 m2   \n",
       "4                       None       1      48 m2   \n",
       "..                       ...     ...        ...   \n",
       "294                     None  parter      55 m2   \n",
       "295                     None  parter      50 m2   \n",
       "296                     None       3      46 m2   \n",
       "297                        1  parter      58 m2   \n",
       "298                     None       1     110 m2   \n",
       "\n",
       "                                              location  \n",
       "0    \\n                                Poznań,     ...  \n",
       "1    \\n                                Poznań,     ...  \n",
       "2    \\n                                Poznań,     ...  \n",
       "3    \\n                                Poznań,     ...  \n",
       "4    \\n                                Poznań,     ...  \n",
       "..                                                 ...  \n",
       "294  \\n                                Poznań,     ...  \n",
       "295  \\n                                Poznań,     ...  \n",
       "296  \\n                                Poznań,     ...  \n",
       "297  \\n                                Poznań,     ...  \n",
       "298  \\n                                Poznań,     ...  \n",
       "\n",
       "[299 rows x 8 columns]"
      ]
     },
     "execution_count": 2,
     "metadata": {},
     "output_type": "execute_result"
    }
   ],
   "source": [
    "df"
   ]
  },
  {
   "cell_type": "markdown",
   "metadata": {},
   "source": [
    "My approach when I'm facing problem like this is using unique method on pandas series and simply printing and examining unique values in every column just by glance.\n",
    "We can achieve this using this code:"
   ]
  },
  {
   "cell_type": "code",
   "execution_count": 3,
   "metadata": {
    "scrolled": false
   },
   "outputs": [
    {
     "name": "stdout",
     "output_type": "stream",
     "text": [
      "fees\n",
      "['800 zł' '420 zł' '2 900 zł' None '150 zł' '650 zł' '550 zł' '440 zł'\n",
      " '1 000 zł' '750 zł' '100 zł' '453 zł' '470 zł' '400 zł' '360 zł' '700 zł'\n",
      " '3 300 zł' '500 zł' '300 zł' '1 600 zł' '490 zł' '900 zł' '570 zł'\n",
      " '2 000 560 zł' '1 800 zł' '555 zł']\n",
      "\n",
      "number_of_rooms\n",
      "['2' '3' '1' '4' None '5' '6']\n",
      "\n",
      "year_built\n",
      "['2006' '2019' '2005' '2000' '1975' None '2011' '2020' '2016' '1980'\n",
      " '2001' '2008' '2021' '2010' '2017' '2015' '1978' '2013' '2014' '1970'\n",
      " '1905' '2022' '1995' '1900' '2018' '2002' '2004' '1965' '2007' '1948'\n",
      " '2003' '1985' '1973' '1906' '1910' '2009' '1940' '1994' '1936' '1990'\n",
      " '1991' '1875' '1920' '1960' '1950' '1998' '1903' '1915' '1933' '2012'\n",
      " '1955']\n",
      "\n",
      "number_of_floors_in_the_building\n",
      "['4' '10' '5' '2' '3' '6' '9' '1' '14' None '15' '7' '11' '8' '16'\n",
      " '0 (parter)' '12' '20' '13' '22']\n",
      "\n",
      "number_of_parking_spaces\n",
      "['1' '40' None '3' '2' '30' '60']\n",
      "\n",
      "floor\n",
      "['parter' '9' '5' '2' '1' '6' '3' '4' '13' '10' '8' 'low parter' None '7'\n",
      " '11' '16' '14']\n",
      "\n",
      "area_in_m2\n",
      "['76 m2' '46 m2' '48 m2' '50 m2' '60 m2' '38 m2' '53 m2' '55 m2' '40 m2'\n",
      " '59 m2' '85 m2' '75 m2' '47,80 m2' '49,10 m2' '41 m2' '43,60 m2'\n",
      " '34,10 m2' '65 m2' '43,58 m2' '47 m2' '45 m2' '62 m2' '30 m2' '35 m2'\n",
      " '93 m2' '47,42 m2' '63 m2' '36 m2' '42,20 m2' '52 m2' '54 m2' '64 m2'\n",
      " '80 m2' '30,05 m2' '44 m2' '53,75 m2' '64,90 m2' '62,70 m2' '65,50 m2'\n",
      " '44,84 m2' '10 m2' '72 m2' '46,60 m2' '61 m2' '32 m2' '21 m2' '49,50 m2'\n",
      " '27 m2' '31 m2' '49 m2' '24 m2' '57 m2' '48,40 m2' '67 m2' '70 m2'\n",
      " '56,07 m2' '38,10 m2' '86 m2' '36,90 m2' '100 m2' '48,77 m2' '68,14 m2'\n",
      " '84 m2' '32,39 m2' '32,33 m2' '39,60 m2' '43 m2' '28,52 m2' '47,50 m2'\n",
      " '43,70 m2' '146,34 m2' '60,50 m2' '52,70 m2' '50,50 m2' '89,30 m2'\n",
      " '57,92 m2' '68,59 m2' '52,38 m2' '56,10 m2' '42 m2' '88 m2' '103 m2'\n",
      " '15 m2' '120 m2' '34 m2' '58 m2' '37 m2' '42,40 m2' '45,22 m2' '63,70 m2'\n",
      " '71 m2' '63,10 m2' '69 m2' '49,90 m2' '51 m2' '47,20 m2' '76,57 m2'\n",
      " '75,27 m2' '41,89 m2' '94 m2' '68,60 m2' '115,90 m2' '44,48 m2'\n",
      " '46,50 m2' '47,29 m2' '83 m2' '45,41 m2' '80,61 m2' '66,44 m2' '35,53 m2'\n",
      " '89 m2' '39 m2' '140 m2' '112 m2' '42,74 m2' '39,84 m2' '96 m2'\n",
      " '52,47 m2' '33 m2' '41,64 m2' '81 m2' '78 m2' '18 m2' '200,30 m2'\n",
      " '105 m2' '73 m2' '54,56 m2' '26 m2' '66 m2' '60,20 m2' '47,62 m2' '13 m2'\n",
      " '20 m2' '42,60 m2' '36,60 m2' '43,54 m2' '51,80 m2' '127,20 m2' '160 m2'\n",
      " '102,80 m2' '42,81 m2' '95 m2' '45,50 m2' '110 m2']\n",
      "\n",
      "location\n",
      "['\\n                                Poznań,                                         Stare Miasto,                                         wielkopolskie '\n",
      " '\\n                                Poznań,                                         wielkopolskie '\n",
      " '\\n                                Poznań,                                         Grunwald,                                         wielkopolskie '\n",
      " '\\n                                Poznań,                                         Naramowice,                                         wielkopolskie '\n",
      " '\\n                                Poznań,                                         Grunwald Południe,                                         wielkopolskie '\n",
      " '\\n                                Poznań,                                         Piątkowo,                                         wielkopolskie '\n",
      " '\\n                                Poznań,                                         Marcelin,                                         wielkopolskie '\n",
      " '\\n                                Poznań,                                         Jeżyce,                                         wielkopolskie '\n",
      " '\\n                                Poznań,                                         Górna Wilda,                                         wielkopolskie '\n",
      " '\\n                                Poznań,                                         Wilda,                                         wielkopolskie '\n",
      " '\\n                                Poznań,                                         Rataje,                                         wielkopolskie '\n",
      " '\\n                                Poznań,                                         Stary Grunwald,                                         wielkopolskie '\n",
      " '\\n                                Poznań,                                         Łazarz,                                         wielkopolskie '\n",
      " '\\n                                Poznań,                                         Zawady,                                         wielkopolskie '\n",
      " '\\n                                Poznań,                                         Górczyn,                                         wielkopolskie '\n",
      " '\\n                                Poznań,                                         Junikowo,                                         wielkopolskie '\n",
      " '\\n                                Poznań,                                         Centrum,                                         wielkopolskie '\n",
      " '\\n                                Poznań,                                         Winogrady,                                         wielkopolskie '\n",
      " '\\n                                Poznań,                                         Świerczewo,                                         wielkopolskie '\n",
      " '\\n                                Poznań,                                         Śródka,                                         wielkopolskie '\n",
      " '\\n                                Poznań,                                         Sołacz,                                         wielkopolskie '\n",
      " '\\n                                Poznań,                                         Szczepankowo,                                         wielkopolskie '\n",
      " '\\n                                Poznań,                                         Strzeszyn,                                         wielkopolskie '\n",
      " '\\n                                Poznań,                                         Winiary,                                         wielkopolskie '\n",
      " '\\n                                Poznań,                                         Podolany,                                         wielkopolskie '\n",
      " '\\n                                Poznań,                                         Garbary,                                         wielkopolskie '\n",
      " '\\n                                Poznań,                                         Starołęka,                                         wielkopolskie '\n",
      " '\\n                                Poznań,                                         Ogrody,                                         wielkopolskie '\n",
      " '\\n                                Poznań,                                         Nowe Miasto,                                         wielkopolskie '\n",
      " '\\n                                Poznań,                                         Stare Winogrady,                                         wielkopolskie '\n",
      " '\\n                                Poznań,                                         Chartowo,                                         wielkopolskie '\n",
      " '\\n                                Poznań,                                         Antoninek,                                         wielkopolskie '\n",
      " '\\n                                Poznań,                                         Warszawskie,                                         wielkopolskie '\n",
      " '\\n                                Poznań,                                         Smochowice,                                         wielkopolskie '\n",
      " '\\n                                Poznań,                                         Rynek Jeżycki,                                         wielkopolskie '\n",
      " '\\n                                Poznań,                                         Główna,                                         wielkopolskie '\n",
      " '\\n                                Poznań,                                         Umultowo,                                         wielkopolskie '\n",
      " '\\n                                Poznań,                                         Grunwald Północ,                                         wielkopolskie '\n",
      " '\\n                                Poznań,                                         Morasko,                                         wielkopolskie ']\n",
      "\n"
     ]
    }
   ],
   "source": [
    "for column in df.columns:\n",
    "    print(column)\n",
    "    print(df[column].unique())\n",
    "    print()"
   ]
  },
  {
   "cell_type": "markdown",
   "metadata": {},
   "source": [
    "Now i' m going to explain preprocessing steps for every column:"
   ]
  },
  {
   "cell_type": "markdown",
   "metadata": {},
   "source": [
    "**fees**"
   ]
  },
  {
   "cell_type": "markdown",
   "metadata": {},
   "source": [
    "We can create simple function which iterates over every element in string and joins only values which are numeric, if value is None (empty value) function will return [np.nan](https://numpy.org/doc/stable/reference/constants.html?highlight=nan#numpy.nan):"
   ]
  },
  {
   "cell_type": "code",
   "execution_count": 4,
   "metadata": {},
   "outputs": [],
   "source": [
    "def get_numeric_values_from_string(s):\n",
    "    if s is None:\n",
    "        return np.nan\n",
    "    else:\n",
    "        return float(''.join([v for v in s if v.isnumeric()]))"
   ]
  },
  {
   "cell_type": "markdown",
   "metadata": {},
   "source": [
    "Simple test:"
   ]
  },
  {
   "cell_type": "code",
   "execution_count": 5,
   "metadata": {},
   "outputs": [],
   "source": [
    "def test_get_numeric_values_from_string():\n",
    "    s = '800 zł'\n",
    "    actual = get_numeric_values_from_string(s)\n",
    "    expected = 800\n",
    "    assert actual == expected\n",
    "\n",
    "test_get_numeric_values_from_string()"
   ]
  },
  {
   "cell_type": "markdown",
   "metadata": {},
   "source": [
    "finaly using map method in order to use function written above:"
   ]
  },
  {
   "cell_type": "code",
   "execution_count": 6,
   "metadata": {},
   "outputs": [],
   "source": [
    "df.fees = df.fees.map(get_numeric_values_from_string)"
   ]
  },
  {
   "cell_type": "markdown",
   "metadata": {},
   "source": [
    "**number_of_rooms, year_built and number_of_parking_spaces**\n",
    "\n",
    "\n",
    "Let's look at data types before we do anything\n"
   ]
  },
  {
   "cell_type": "code",
   "execution_count": 7,
   "metadata": {},
   "outputs": [
    {
     "data": {
      "text/plain": [
       "fees                                float64\n",
       "number_of_rooms                      object\n",
       "year_built                           object\n",
       "number_of_floors_in_the_building     object\n",
       "number_of_parking_spaces             object\n",
       "floor                                object\n",
       "area_in_m2                           object\n",
       "location                             object\n",
       "dtype: object"
      ]
     },
     "execution_count": 7,
     "metadata": {},
     "output_type": "execute_result"
    }
   ],
   "source": [
    "df.dtypes"
   ]
  },
  {
   "cell_type": "markdown",
   "metadata": {},
   "source": [
    "Columns number_of_rooms, year_built and number_of_parking_spaces should be numeric, why ?\n",
    "\n",
    "lets look at unique values in this columns again"
   ]
  },
  {
   "cell_type": "code",
   "execution_count": 8,
   "metadata": {},
   "outputs": [
    {
     "name": "stdout",
     "output_type": "stream",
     "text": [
      "number_of_rooms\n",
      "['2' '3' '1' '4' None '5' '6']\n",
      "\n",
      "year_built\n",
      "['2006' '2019' '2005' '2000' '1975' None '2011' '2020' '2016' '1980'\n",
      " '2001' '2008' '2021' '2010' '2017' '2015' '1978' '2013' '2014' '1970'\n",
      " '1905' '2022' '1995' '1900' '2018' '2002' '2004' '1965' '2007' '1948'\n",
      " '2003' '1985' '1973' '1906' '1910' '2009' '1940' '1994' '1936' '1990'\n",
      " '1991' '1875' '1920' '1960' '1950' '1998' '1903' '1915' '1933' '2012'\n",
      " '1955']\n",
      "\n",
      "number_of_parking_spaces\n",
      "['1' '40' None '3' '2' '30' '60']\n",
      "\n"
     ]
    }
   ],
   "source": [
    "columns_to_check = ['number_of_rooms', 'year_built', 'number_of_parking_spaces']\n",
    "\n",
    "for column_to_check in columns_to_check:\n",
    "    print(column_to_check)\n",
    "    print(df[column_to_check].unique())\n",
    "    print()"
   ]
  },
  {
   "cell_type": "markdown",
   "metadata": {},
   "source": [
    "Let's create python dictionary where key will be name of the column we want to convert and the value will be datatype this column should be converted to"
   ]
  },
  {
   "cell_type": "code",
   "execution_count": 9,
   "metadata": {},
   "outputs": [],
   "source": [
    "convert_dict = {\n",
    "    'number_of_rooms': float, \n",
    "    'year_built': float, \n",
    "    'number_of_parking_spaces': float\n",
    "}\n",
    "\n",
    "df = df.astype(convert_dict)"
   ]
  },
  {
   "cell_type": "markdown",
   "metadata": {},
   "source": [
    "So the data types now looks like that:"
   ]
  },
  {
   "cell_type": "code",
   "execution_count": 10,
   "metadata": {},
   "outputs": [
    {
     "data": {
      "text/plain": [
       "fees                                float64\n",
       "number_of_rooms                     float64\n",
       "year_built                          float64\n",
       "number_of_floors_in_the_building     object\n",
       "number_of_parking_spaces            float64\n",
       "floor                                object\n",
       "area_in_m2                           object\n",
       "location                             object\n",
       "dtype: object"
      ]
     },
     "execution_count": 10,
     "metadata": {},
     "output_type": "execute_result"
    }
   ],
   "source": [
    "df.dtypes"
   ]
  },
  {
   "cell_type": "markdown",
   "metadata": {},
   "source": [
    "**number_of_floors_in_the_building and floor**"
   ]
  },
  {
   "cell_type": "markdown",
   "metadata": {},
   "source": [
    "We need to replace some values in this two columns\n",
    "In order to do so im going to create python dictionary which will be used as mapper, key from this dictionary is the value we want to replace and value of this key is new value we want to set. Here's the code:"
   ]
  },
  {
   "cell_type": "code",
   "execution_count": 11,
   "metadata": {},
   "outputs": [],
   "source": [
    "mapper:dict = {\n",
    "    '0 (parter)': 0\n",
    "}\n",
    "df.number_of_floors_in_the_building = df.number_of_floors_in_the_building.replace(mapper)"
   ]
  },
  {
   "cell_type": "markdown",
   "metadata": {},
   "source": [
    "Same approach for floor column"
   ]
  },
  {
   "cell_type": "code",
   "execution_count": 12,
   "metadata": {},
   "outputs": [],
   "source": [
    "mapper:dict = {\n",
    "    'parter': 0,\n",
    "    'low parter':0\n",
    "}\n",
    "df.floor = df.floor.replace(mapper)"
   ]
  },
  {
   "cell_type": "markdown",
   "metadata": {},
   "source": [
    "Fast look at datatypes:"
   ]
  },
  {
   "cell_type": "code",
   "execution_count": 13,
   "metadata": {},
   "outputs": [],
   "source": [
    "convert_dict = {\n",
    "    'number_of_floors_in_the_building': float, \n",
    "    'floor': float, \n",
    "}\n",
    "\n",
    "df = df.astype(convert_dict)"
   ]
  },
  {
   "cell_type": "code",
   "execution_count": 14,
   "metadata": {},
   "outputs": [
    {
     "data": {
      "text/plain": [
       "fees                                float64\n",
       "number_of_rooms                     float64\n",
       "year_built                          float64\n",
       "number_of_floors_in_the_building    float64\n",
       "number_of_parking_spaces            float64\n",
       "floor                               float64\n",
       "area_in_m2                           object\n",
       "location                             object\n",
       "dtype: object"
      ]
     },
     "execution_count": 14,
     "metadata": {},
     "output_type": "execute_result"
    }
   ],
   "source": [
    "df.dtypes"
   ]
  },
  {
   "cell_type": "markdown",
   "metadata": {},
   "source": [
    "Fantastic! Let's go further"
   ]
  },
  {
   "cell_type": "markdown",
   "metadata": {},
   "source": [
    "**area_in_m2**"
   ]
  },
  {
   "cell_type": "markdown",
   "metadata": {},
   "source": [
    "My approach is to create new function"
   ]
  },
  {
   "cell_type": "code",
   "execution_count": 15,
   "metadata": {},
   "outputs": [],
   "source": [
    "def convert_area_in_m2_to_numeric(s):\n",
    "    return float(s.replace('m2', '').replace(',', '.').strip())"
   ]
  },
  {
   "cell_type": "markdown",
   "metadata": {},
   "source": [
    "Then we can write simple test for this function"
   ]
  },
  {
   "cell_type": "code",
   "execution_count": 16,
   "metadata": {},
   "outputs": [],
   "source": [
    "def test_convert_area_in_m2_to_numeric():\n",
    "    s= '100,57 m2'\n",
    "    actual= convert_area_in_m2_to_numeric(s)\n",
    "    expected = 100.57\n",
    "    assert actual == expected\n",
    "    \n",
    "test_convert_area_in_m2_to_numeric()"
   ]
  },
  {
   "cell_type": "markdown",
   "metadata": {},
   "source": [
    "finally use map method in order to apply it on pandas serie"
   ]
  },
  {
   "cell_type": "code",
   "execution_count": 17,
   "metadata": {},
   "outputs": [],
   "source": [
    "df.area_in_m2 = df.area_in_m2.map(convert_area_in_m2_to_numeric)"
   ]
  },
  {
   "cell_type": "markdown",
   "metadata": {},
   "source": [
    "Of course we can use use vectorized string methods on pandas serie, and write it like"
   ]
  },
  {
   "cell_type": "code",
   "execution_count": 18,
   "metadata": {},
   "outputs": [],
   "source": [
    "# df.area_in_m2 = df.area_in_m2.str.replace('m2', '').str.replace(',', '.').str.strip().astype('float')"
   ]
  },
  {
   "cell_type": "markdown",
   "metadata": {},
   "source": [
    "But if we re going to use this for instance in ETL pipeline my recommendation is to define function, the biggest pros of writing a function is that we can test it, which is extremaly important !"
   ]
  },
  {
   "cell_type": "markdown",
   "metadata": {},
   "source": [
    "**location**"
   ]
  },
  {
   "cell_type": "markdown",
   "metadata": {},
   "source": [
    "Last column which should be preprocessed is location, again two approaches write function and test it and use vectorized function\n",
    "\n",
    "first approach:\n",
    "\n",
    "new function:"
   ]
  },
  {
   "cell_type": "code",
   "execution_count": 19,
   "metadata": {},
   "outputs": [],
   "source": [
    "def get_location(s):\n",
    "    return ' '.join(s.strip().split())"
   ]
  },
  {
   "cell_type": "markdown",
   "metadata": {},
   "source": [
    "test:"
   ]
  },
  {
   "cell_type": "code",
   "execution_count": 20,
   "metadata": {},
   "outputs": [],
   "source": [
    "def test_get_location() -> None:\n",
    "    s = '''\n",
    "\n",
    "    Poznań,       Stare Miasto,    wielkopolskie\n",
    "    \n",
    "    '''\n",
    "    actual = get_location(s)\n",
    "    expected = 'Poznań, Stare Miasto, wielkopolskie'\n",
    "    assert actual == expected\n",
    "    \n",
    "test_get_location()"
   ]
  },
  {
   "cell_type": "markdown",
   "metadata": {},
   "source": [
    "use map method for pandas serie:"
   ]
  },
  {
   "cell_type": "code",
   "execution_count": 21,
   "metadata": {},
   "outputs": [],
   "source": [
    "df.location = df.location.map(get_location)"
   ]
  },
  {
   "cell_type": "markdown",
   "metadata": {},
   "source": [
    "second approach (not recommended by me but also valid):"
   ]
  },
  {
   "cell_type": "code",
   "execution_count": 22,
   "metadata": {},
   "outputs": [],
   "source": [
    "# df.location = df.location.str.strip().str.split().apply(lambda x: ' '.join(x))"
   ]
  },
  {
   "cell_type": "markdown",
   "metadata": {},
   "source": [
    "Let's use unique method in order to see locations:"
   ]
  },
  {
   "cell_type": "code",
   "execution_count": 23,
   "metadata": {},
   "outputs": [
    {
     "data": {
      "text/plain": [
       "array(['Poznań, Stare Miasto, wielkopolskie', 'Poznań, wielkopolskie',\n",
       "       'Poznań, Grunwald, wielkopolskie',\n",
       "       'Poznań, Naramowice, wielkopolskie',\n",
       "       'Poznań, Grunwald Południe, wielkopolskie',\n",
       "       'Poznań, Piątkowo, wielkopolskie',\n",
       "       'Poznań, Marcelin, wielkopolskie', 'Poznań, Jeżyce, wielkopolskie',\n",
       "       'Poznań, Górna Wilda, wielkopolskie',\n",
       "       'Poznań, Wilda, wielkopolskie', 'Poznań, Rataje, wielkopolskie',\n",
       "       'Poznań, Stary Grunwald, wielkopolskie',\n",
       "       'Poznań, Łazarz, wielkopolskie', 'Poznań, Zawady, wielkopolskie',\n",
       "       'Poznań, Górczyn, wielkopolskie',\n",
       "       'Poznań, Junikowo, wielkopolskie',\n",
       "       'Poznań, Centrum, wielkopolskie',\n",
       "       'Poznań, Winogrady, wielkopolskie',\n",
       "       'Poznań, Świerczewo, wielkopolskie',\n",
       "       'Poznań, Śródka, wielkopolskie', 'Poznań, Sołacz, wielkopolskie',\n",
       "       'Poznań, Szczepankowo, wielkopolskie',\n",
       "       'Poznań, Strzeszyn, wielkopolskie',\n",
       "       'Poznań, Winiary, wielkopolskie',\n",
       "       'Poznań, Podolany, wielkopolskie',\n",
       "       'Poznań, Garbary, wielkopolskie',\n",
       "       'Poznań, Starołęka, wielkopolskie',\n",
       "       'Poznań, Ogrody, wielkopolskie',\n",
       "       'Poznań, Nowe Miasto, wielkopolskie',\n",
       "       'Poznań, Stare Winogrady, wielkopolskie',\n",
       "       'Poznań, Chartowo, wielkopolskie',\n",
       "       'Poznań, Antoninek, wielkopolskie',\n",
       "       'Poznań, Warszawskie, wielkopolskie',\n",
       "       'Poznań, Smochowice, wielkopolskie',\n",
       "       'Poznań, Rynek Jeżycki, wielkopolskie',\n",
       "       'Poznań, Główna, wielkopolskie', 'Poznań, Umultowo, wielkopolskie',\n",
       "       'Poznań, Grunwald Północ, wielkopolskie',\n",
       "       'Poznań, Morasko, wielkopolskie'], dtype=object)"
      ]
     },
     "execution_count": 23,
     "metadata": {},
     "output_type": "execute_result"
    }
   ],
   "source": [
    "df.location.unique()"
   ]
  },
  {
   "cell_type": "markdown",
   "metadata": {},
   "source": [
    "One of the values - Poznań, wielkopolskie doesn't give any information - we know that we re dealing with flats from Poznań, wielkopolskie is name voivodeship. Let's replace it with [np.nan](https://numpy.org/doc/stable/reference/constants.html?highlight=nan#numpy.nan)"
   ]
  },
  {
   "cell_type": "code",
   "execution_count": 24,
   "metadata": {},
   "outputs": [],
   "source": [
    "df.location = df.location.replace({'Poznań, wielkopolskie': np.nan})"
   ]
  },
  {
   "cell_type": "markdown",
   "metadata": {},
   "source": [
    "Last thing we want to do is to extract district from location, we can do it easily by picking second element (first index) at splited location, to do so let's define new function"
   ]
  },
  {
   "cell_type": "code",
   "execution_count": 25,
   "metadata": {},
   "outputs": [],
   "source": [
    "def get_district(s):\n",
    "    if s is np.nan:\n",
    "        return np.nan\n",
    "    else:\n",
    "        splited:list = s.split(', ')\n",
    "        return splited[1]"
   ]
  },
  {
   "cell_type": "markdown",
   "metadata": {},
   "source": [
    "Of course **test it**"
   ]
  },
  {
   "cell_type": "code",
   "execution_count": 26,
   "metadata": {},
   "outputs": [],
   "source": [
    "def test_get_district():\n",
    "    s = 'Poznań, Stare Miasto, wielkopolskie'\n",
    "    actual = get_district(s)\n",
    "    expected = 'Stare Miasto'\n",
    "    assert actual == expected\n",
    "    \n",
    "test_get_district()"
   ]
  },
  {
   "cell_type": "markdown",
   "metadata": {},
   "source": [
    "And use it"
   ]
  },
  {
   "cell_type": "code",
   "execution_count": 27,
   "metadata": {},
   "outputs": [],
   "source": [
    "df['district'] = df.location.map(get_district)"
   ]
  },
  {
   "cell_type": "markdown",
   "metadata": {},
   "source": [
    "Hurray!\n",
    "\n",
    "Preprocessing has been finished and final datset looks great, let's look:"
   ]
  },
  {
   "cell_type": "code",
   "execution_count": 28,
   "metadata": {},
   "outputs": [
    {
     "data": {
      "text/html": [
       "<div>\n",
       "<style scoped>\n",
       "    .dataframe tbody tr th:only-of-type {\n",
       "        vertical-align: middle;\n",
       "    }\n",
       "\n",
       "    .dataframe tbody tr th {\n",
       "        vertical-align: top;\n",
       "    }\n",
       "\n",
       "    .dataframe thead th {\n",
       "        text-align: right;\n",
       "    }\n",
       "</style>\n",
       "<table border=\"1\" class=\"dataframe\">\n",
       "  <thead>\n",
       "    <tr style=\"text-align: right;\">\n",
       "      <th></th>\n",
       "      <th>fees</th>\n",
       "      <th>number_of_rooms</th>\n",
       "      <th>year_built</th>\n",
       "      <th>number_of_floors_in_the_building</th>\n",
       "      <th>number_of_parking_spaces</th>\n",
       "      <th>floor</th>\n",
       "      <th>area_in_m2</th>\n",
       "      <th>location</th>\n",
       "      <th>district</th>\n",
       "    </tr>\n",
       "  </thead>\n",
       "  <tbody>\n",
       "    <tr>\n",
       "      <th>0</th>\n",
       "      <td>800.0</td>\n",
       "      <td>2.0</td>\n",
       "      <td>2006.0</td>\n",
       "      <td>4.0</td>\n",
       "      <td>1.0</td>\n",
       "      <td>0.0</td>\n",
       "      <td>76.0</td>\n",
       "      <td>Poznań, Stare Miasto, wielkopolskie</td>\n",
       "      <td>Stare Miasto</td>\n",
       "    </tr>\n",
       "    <tr>\n",
       "      <th>1</th>\n",
       "      <td>420.0</td>\n",
       "      <td>2.0</td>\n",
       "      <td>2019.0</td>\n",
       "      <td>10.0</td>\n",
       "      <td>1.0</td>\n",
       "      <td>9.0</td>\n",
       "      <td>46.0</td>\n",
       "      <td>NaN</td>\n",
       "      <td>NaN</td>\n",
       "    </tr>\n",
       "    <tr>\n",
       "      <th>2</th>\n",
       "      <td>2900.0</td>\n",
       "      <td>2.0</td>\n",
       "      <td>2005.0</td>\n",
       "      <td>5.0</td>\n",
       "      <td>1.0</td>\n",
       "      <td>5.0</td>\n",
       "      <td>48.0</td>\n",
       "      <td>Poznań, Grunwald, wielkopolskie</td>\n",
       "      <td>Grunwald</td>\n",
       "    </tr>\n",
       "    <tr>\n",
       "      <th>3</th>\n",
       "      <td>NaN</td>\n",
       "      <td>2.0</td>\n",
       "      <td>2000.0</td>\n",
       "      <td>2.0</td>\n",
       "      <td>40.0</td>\n",
       "      <td>2.0</td>\n",
       "      <td>50.0</td>\n",
       "      <td>Poznań, Naramowice, wielkopolskie</td>\n",
       "      <td>Naramowice</td>\n",
       "    </tr>\n",
       "    <tr>\n",
       "      <th>4</th>\n",
       "      <td>150.0</td>\n",
       "      <td>3.0</td>\n",
       "      <td>1975.0</td>\n",
       "      <td>4.0</td>\n",
       "      <td>NaN</td>\n",
       "      <td>1.0</td>\n",
       "      <td>48.0</td>\n",
       "      <td>NaN</td>\n",
       "      <td>NaN</td>\n",
       "    </tr>\n",
       "    <tr>\n",
       "      <th>...</th>\n",
       "      <td>...</td>\n",
       "      <td>...</td>\n",
       "      <td>...</td>\n",
       "      <td>...</td>\n",
       "      <td>...</td>\n",
       "      <td>...</td>\n",
       "      <td>...</td>\n",
       "      <td>...</td>\n",
       "      <td>...</td>\n",
       "    </tr>\n",
       "    <tr>\n",
       "      <th>294</th>\n",
       "      <td>NaN</td>\n",
       "      <td>2.0</td>\n",
       "      <td>1955.0</td>\n",
       "      <td>1.0</td>\n",
       "      <td>NaN</td>\n",
       "      <td>0.0</td>\n",
       "      <td>55.0</td>\n",
       "      <td>Poznań, Grunwald, wielkopolskie</td>\n",
       "      <td>Grunwald</td>\n",
       "    </tr>\n",
       "    <tr>\n",
       "      <th>295</th>\n",
       "      <td>NaN</td>\n",
       "      <td>2.0</td>\n",
       "      <td>NaN</td>\n",
       "      <td>3.0</td>\n",
       "      <td>NaN</td>\n",
       "      <td>0.0</td>\n",
       "      <td>50.0</td>\n",
       "      <td>Poznań, Centrum, wielkopolskie</td>\n",
       "      <td>Centrum</td>\n",
       "    </tr>\n",
       "    <tr>\n",
       "      <th>296</th>\n",
       "      <td>NaN</td>\n",
       "      <td>2.0</td>\n",
       "      <td>2000.0</td>\n",
       "      <td>3.0</td>\n",
       "      <td>NaN</td>\n",
       "      <td>3.0</td>\n",
       "      <td>46.0</td>\n",
       "      <td>Poznań, Stare Miasto, wielkopolskie</td>\n",
       "      <td>Stare Miasto</td>\n",
       "    </tr>\n",
       "    <tr>\n",
       "      <th>297</th>\n",
       "      <td>300.0</td>\n",
       "      <td>2.0</td>\n",
       "      <td>2016.0</td>\n",
       "      <td>1.0</td>\n",
       "      <td>1.0</td>\n",
       "      <td>0.0</td>\n",
       "      <td>58.0</td>\n",
       "      <td>Poznań, Morasko, wielkopolskie</td>\n",
       "      <td>Morasko</td>\n",
       "    </tr>\n",
       "    <tr>\n",
       "      <th>298</th>\n",
       "      <td>NaN</td>\n",
       "      <td>4.0</td>\n",
       "      <td>NaN</td>\n",
       "      <td>5.0</td>\n",
       "      <td>NaN</td>\n",
       "      <td>1.0</td>\n",
       "      <td>110.0</td>\n",
       "      <td>Poznań, Centrum, wielkopolskie</td>\n",
       "      <td>Centrum</td>\n",
       "    </tr>\n",
       "  </tbody>\n",
       "</table>\n",
       "<p>299 rows × 9 columns</p>\n",
       "</div>"
      ],
      "text/plain": [
       "       fees  number_of_rooms  year_built  number_of_floors_in_the_building  \\\n",
       "0     800.0              2.0      2006.0                               4.0   \n",
       "1     420.0              2.0      2019.0                              10.0   \n",
       "2    2900.0              2.0      2005.0                               5.0   \n",
       "3       NaN              2.0      2000.0                               2.0   \n",
       "4     150.0              3.0      1975.0                               4.0   \n",
       "..      ...              ...         ...                               ...   \n",
       "294     NaN              2.0      1955.0                               1.0   \n",
       "295     NaN              2.0         NaN                               3.0   \n",
       "296     NaN              2.0      2000.0                               3.0   \n",
       "297   300.0              2.0      2016.0                               1.0   \n",
       "298     NaN              4.0         NaN                               5.0   \n",
       "\n",
       "     number_of_parking_spaces  floor  area_in_m2  \\\n",
       "0                         1.0    0.0        76.0   \n",
       "1                         1.0    9.0        46.0   \n",
       "2                         1.0    5.0        48.0   \n",
       "3                        40.0    2.0        50.0   \n",
       "4                         NaN    1.0        48.0   \n",
       "..                        ...    ...         ...   \n",
       "294                       NaN    0.0        55.0   \n",
       "295                       NaN    0.0        50.0   \n",
       "296                       NaN    3.0        46.0   \n",
       "297                       1.0    0.0        58.0   \n",
       "298                       NaN    1.0       110.0   \n",
       "\n",
       "                                location      district  \n",
       "0    Poznań, Stare Miasto, wielkopolskie  Stare Miasto  \n",
       "1                                    NaN           NaN  \n",
       "2        Poznań, Grunwald, wielkopolskie      Grunwald  \n",
       "3      Poznań, Naramowice, wielkopolskie    Naramowice  \n",
       "4                                    NaN           NaN  \n",
       "..                                   ...           ...  \n",
       "294      Poznań, Grunwald, wielkopolskie      Grunwald  \n",
       "295       Poznań, Centrum, wielkopolskie       Centrum  \n",
       "296  Poznań, Stare Miasto, wielkopolskie  Stare Miasto  \n",
       "297       Poznań, Morasko, wielkopolskie       Morasko  \n",
       "298       Poznań, Centrum, wielkopolskie       Centrum  \n",
       "\n",
       "[299 rows x 9 columns]"
      ]
     },
     "execution_count": 28,
     "metadata": {},
     "output_type": "execute_result"
    }
   ],
   "source": [
    "df"
   ]
  },
  {
   "cell_type": "markdown",
   "metadata": {},
   "source": [
    "Now further use cases for this dataset are almost **unlimited**, examples:\n",
    "\n",
    "* building machine learning model\n",
    "* store in data warehouse and use it for BI\n",
    "* data visualizations"
   ]
  }
 ],
 "metadata": {
  "kernelspec": {
   "display_name": "Python 3 (ipykernel)",
   "language": "python",
   "name": "python3"
  },
  "language_info": {
   "codemirror_mode": {
    "name": "ipython",
    "version": 3
   },
   "file_extension": ".py",
   "mimetype": "text/x-python",
   "name": "python",
   "nbconvert_exporter": "python",
   "pygments_lexer": "ipython3",
   "version": "3.9.12"
  },
  "vscode": {
   "interpreter": {
    "hash": "f2c62667458288d5907abca8bdbf4dce0afea8e41911bca3184aa0b6a74b7e60"
   }
  }
 },
 "nbformat": 4,
 "nbformat_minor": 2
}
